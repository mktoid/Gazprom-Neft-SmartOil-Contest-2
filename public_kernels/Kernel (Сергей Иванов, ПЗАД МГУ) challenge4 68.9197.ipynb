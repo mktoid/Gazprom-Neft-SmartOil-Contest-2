{
 "cells": [
  {
   "cell_type": "code",
   "execution_count": 1,
   "metadata": {
    "ExecuteTime": {
     "end_time": "2018-10-29T17:37:06.188588Z",
     "start_time": "2018-10-29T17:37:05.862733Z"
    }
   },
   "outputs": [],
   "source": [
    "import pandas as pd"
   ]
  },
  {
   "cell_type": "code",
   "execution_count": 2,
   "metadata": {
    "ExecuteTime": {
     "end_time": "2018-10-29T17:37:06.275526Z",
     "start_time": "2018-10-29T17:37:06.189546Z"
    }
   },
   "outputs": [],
   "source": [
    "# грузим\n",
    "test = pd.read_csv(\"test_X.csv\", encoding=\"ansi\")\n",
    "order = pd.read_csv(\"order4.csv\", encoding=\"ansi\")"
   ]
  },
  {
   "cell_type": "code",
   "execution_count": 3,
   "metadata": {
    "ExecuteTime": {
     "end_time": "2018-10-29T17:37:06.309587Z",
     "start_time": "2018-10-29T17:37:06.276528Z"
    }
   },
   "outputs": [],
   "source": [
    "# переводим в число\n",
    "test[\"Нефть, т\"] = test[\"Нефть, т\"].astype(str).apply(lambda x: x.replace(',','.')).astype(float)"
   ]
  },
  {
   "cell_type": "code",
   "execution_count": 4,
   "metadata": {
    "ExecuteTime": {
     "end_time": "2018-10-29T17:37:06.444344Z",
     "start_time": "2018-10-29T17:37:06.312584Z"
    }
   },
   "outputs": [],
   "source": [
    "# нумеруем по скважинам\n",
    "test[\"number\"] = test.groupby(\"Скважина\").cumcount()"
   ]
  },
  {
   "cell_type": "code",
   "execution_count": 5,
   "metadata": {
    "ExecuteTime": {
     "end_time": "2018-10-29T17:37:06.574836Z",
     "start_time": "2018-10-29T17:37:06.447323Z"
    }
   },
   "outputs": [],
   "source": [
    "# делаем так, чтобы номера месяцов по скважине были ... -2 -1 0\n",
    "test[\"number\"] -= test[\"Скважина\"].map(test.groupby(\"Скважина\").number.aggregate(max))"
   ]
  },
  {
   "cell_type": "code",
   "execution_count": 6,
   "metadata": {
    "ExecuteTime": {
     "end_time": "2018-10-29T17:37:06.656732Z",
     "start_time": "2018-10-29T17:37:06.576793Z"
    }
   },
   "outputs": [],
   "source": [
    "# берём последнее и предпоследнее значение целевой переменной (остальное нам не понадобится ;о) )\n",
    "test_prev = test[test.number == 0].set_index(\"Скважина\")[\"Нефть, т\"]\n",
    "test_prev2 = test[test.number == -1].set_index(\"Скважина\")[\"Нефть, т\"]"
   ]
  },
  {
   "cell_type": "code",
   "execution_count": 7,
   "metadata": {
    "ExecuteTime": {
     "end_time": "2018-10-29T17:37:06.845999Z",
     "start_time": "2018-10-29T17:37:06.657726Z"
    }
   },
   "outputs": [],
   "source": [
    "# генерим финальный ответ\n",
    "final_answer = []\n",
    "for ID in order[\"well\"]:\n",
    "    final_answer += [(test_prev[ID] + test_prev2[ID]) / 2]*6"
   ]
  },
  {
   "cell_type": "code",
   "execution_count": 8,
   "metadata": {
    "ExecuteTime": {
     "end_time": "2018-10-29T17:37:07.003976Z",
     "start_time": "2018-10-29T17:37:06.846983Z"
    }
   },
   "outputs": [],
   "source": [
    "# 68.9197 на паблике :О)\n",
    "final_ans = pd.DataFrame(data={\"_VAL_\": final_answer})\n",
    "final_ans.to_csv(\"supersolution.csv\")"
   ]
  }
 ],
 "metadata": {
  "kernelspec": {
   "display_name": "Python 3",
   "language": "python",
   "name": "python3"
  },
  "language_info": {
   "codemirror_mode": {
    "name": "ipython",
    "version": 3
   },
   "file_extension": ".py",
   "mimetype": "text/x-python",
   "name": "python",
   "nbconvert_exporter": "python",
   "pygments_lexer": "ipython3",
   "version": "3.6.6"
  },
  "latex_envs": {
   "LaTeX_envs_menu_present": true,
   "autoclose": false,
   "autocomplete": true,
   "bibliofile": "biblio.bib",
   "cite_by": "apalike",
   "current_citInitial": 1,
   "eqLabelWithNumbers": true,
   "eqNumInitial": 1,
   "hotkeys": {
    "equation": "Ctrl-E",
    "itemize": "Ctrl-I"
   },
   "labels_anchors": false,
   "latex_user_defs": false,
   "report_style_numbering": false,
   "user_envs_cfg": false
  }
 },
 "nbformat": 4,
 "nbformat_minor": 2
}
